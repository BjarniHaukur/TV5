{
  "cells": [
    {
      "cell_type": "markdown",
      "metadata": {
        "id": "_6Vrsy5Oaofl"
      },
      "source": [
        "**Verkefnalýsing**\n",
        "\n",
        "Hjúkrunarfræðideild þarf að raða niður öllum nemendum sem eru á fjórða ári í hjúkrun í bókleg námskeið og í klíník. Klíník er starfsnám þar sem nemendur þurfa að vinna á stofnun eða spítala undir handleiðslu kennara á svæðinu.\n",
        "\n",
        "Tveir áfangar eru með það fáa í hóp í einu að klíníkin þar þarf að dreifast yfir heilt ár og því þarf að fylgjast vel með að allir komist í klíník og klári allt sem þarf til að útskrifast. Þessir áfangar eru Barnahjúkrun og Bráðahjúkrun. \n",
        "\n",
        "Áfangar sem er skylt er að taka á  fjórða ári eru:\n",
        "\n",
        "**Haust:**\n",
        "\n",
        "*   Heimahjúkrun - þarf klíník sem klárast haustið \n",
        "*   Hjúkrunarstjórnun - þarf klíník sem klárast um haustið\n",
        "*   Langveikir og heilbrigðisþjónustan - eingöngu bóklegur áfangi haustið\n",
        "*   Ofbeldi og geðrækt - eingöngu bóklegur áfangi sem klárast um haustið\n",
        "*   Bráðahjúkrun - bóklegur og klínískur áfangi þar sem bóklegi hlutinn klárast um haustið en klíníkin byrjar um haustið og lýkur um vorið\n",
        "*   Barnahjúkrun - bóklegur og klínískur áfangi þar sem bóklegi hlutinn klárast um haustið en klíníkin byrjar um haustið og lýkur um vorið\n",
        "\n",
        "Klínískt nám má byrja í 35 viku (29.08.2022 og standa yfir í 6 vikur) þá tekur við bóklegt nám til viku 45 (7.11.2022 og er í 3 vikur). Á þeim þrem vikum má koma fyrir tveim hópum í Barnahjúkrun, tveim í Bráðahjúkrun og tveim í Heimahjúkrun. \n",
        "\n",
        "**Vor:**\n",
        "\n",
        "Nemendur fá að velja sér tvo valáfanga af fimm sem eru í boði. Þeir eru:\n",
        "\n",
        "*   Kynheilbrigði \n",
        "*   Konur, heilsa og samfélag\n",
        "*   Bráðahjúkrun framhaldsnámskeið (ATH nemendur verða að vera búnir með klíník í Bráðahjúkrun til að  mega taka þennan áfanga) best er að allir sem taka Bráða í val klári bráða skyldu á haustönn \n",
        "*   Andvari: Gjörgæsluhjúkrun\n",
        "*   Líknarmeðferð\n",
        "\n",
        "Meðfram kennslunni þurfa nemendur að taka klíník í Barnahjúkrun og Bráðahjúkrun. Út af plássleysi er ekki hægt að koma fyrir klíník fyrr en í 5 viku (31 janúar 2022) en þá má klíník í Barnahjúkrun og Bráðahjúkrun byrja og klíníkin endar í viku 12 og seinni vikan í Barnahjúkrun endar í viku 13.\n",
        "\n",
        "Nemendur svara spurningalista sem sendur er út í apríl-maí 2021 þar sem spurt er um hvar þeir hafi starfað síðastliðin 2. ár eða hvort eitthvað geti útilokað þau frá því að vinna á ákveðnum deildum (nema í Hjúkrunarstjórnun þar sem þau eiga að hafa unnið á deildinni sem þau eru sett í).\n",
        "\n",
        "Þegar búið er að raða nemendum niður á heildar myndina þá er farið að velja deildir og reynt að taka mið af búsetu nemanda eins og hægt er. \n",
        "\n",
        "**Takmarkanir**:\n",
        "\n",
        "\n",
        "\n",
        "Nafn\t|\tLengd á klíník per nemenda |\tFjöldi í hverjum hóp |  Forkrafa\n",
        "--- | ---  | --- | --- \n",
        "Heimahjúkrun\t|\t1 vika\t|\t\t13 cirka\t|\t\tEkki unnið áður\n",
        "Hjúkrunarstjórnun\t| 2 vikur\t\t|\t40 cirka\t|\t\tVerður að þekkja deild+\n",
        "Bráðahjúkrun\t|\t1 vika\t|\t\t6\t|\t\tSkiptir ekki máli\n",
        "Barnahjúkrun\t|\t2 vikur++\t|\t\t8\t|\t\tEkki unnið áður\n",
        "\n",
        "+Hafa unnið á deildinni í verknámi eða sem starfsmaður. <br>\n",
        "++Seinni vikan er við HÍ, þannig að fjöldatakmörkun 8 gildir aðeins fyrir fyrstu viku.\n",
        "\n",
        "Aðrar athugasemdir:\n",
        "\n",
        "> Við fáum mismörg pláss út á landsbyggðinni. Í MRS skjalinu þá var bara sett Landsbyggð af því að það átti eftir að spyrja nemendur hvert þau vildu fara (Ísafjörð, Neskaupsstað osfrv.) en væri hægt að segja að plássin út á landi væru mest í byrjun (því við reynum að klára þau út af Íslenskri veðráttu). Í meðfylgjandi skjali sérðu nöfnin á þeim stöðum sem við notum og svo plássin sem við fengum í hvert skipti (að sjálfsögðu breytist það á hverju ári en við þurfum ekki að hugsa um það núna). En þetta er ekki stærsta atriðið, vildum bara benda á þetta.\n",
        " \n",
        "> Varðandi skipulagsskjalið þá eru það plássin sem við höldum að við þurfum fyrir hvert holl, við fáum oft tóm pláss (s.s. pláss sem við getum ekki nýtt) í MRS skjölunum en þau eru pláss sem við notum til að hlaupa upp á ef t.d. nemandi verður veikur eða eitthvað kemur upp.\n",
        " \n"
      ]
    },
    {
      "cell_type": "code",
      "execution_count": 38,
      "metadata": {
        "colab": {
          "base_uri": "https://localhost:8080/"
        },
        "id": "uuHDcqLcdsTr",
        "outputId": "21617e86-256e-4176-dfe4-3816f05b97bc"
      },
      "outputs": [],
      "source": [
        "import pandas as pd\n",
        "import numpy as np\n",
        "# Athugið að verkefnið er of stórt til að keyra í Colab! Þið þurfið að sækja Gurobi+Academic License\n",
        "# !python -m pip install -i https://pypi.gurobi.com gurobipy[matrixapi]\n",
        "import gurobipy as gp\n",
        "from datetime import datetime\n",
        "from random import shuffle\n",
        "pd.set_option('display.max_rows', 100)\n",
        "pd.set_option('display.max_columns', 100)"
      ]
    },
    {
      "cell_type": "markdown",
      "metadata": {
        "id": "4aMbjRIUSATY"
      },
      "source": [
        "**1. Gagnavinnsla**\n"
      ]
    },
    {
      "cell_type": "code",
      "execution_count": 39,
      "metadata": {
        "id": "PP9WRaTSQJMe"
      },
      "outputs": [],
      "source": [
        "# ef nemandi er skráður í þessi valnámskeið má hann ekki vera í klínik á þessum dögum\n",
        "stundata = {'Andvari: Gjörgæsluhjúkrun HJÚ824M' :['1/17/2022','1/24/2022','2/21/2022'],\n",
        "            'Kynheilbrigði HJÚ823M' : ['2/7/2022','3/7/2022','3/28/2022','4/4/2022'],\n",
        "            'Líknarmeðferð HJÚ0AXM' : ['1/31/2022','2/28/2022'],\n",
        "            'Konur heilsa og samfélag HJÚ827M' : ['3/7/2022','3/14/2022','4/4/2022'],\n",
        "            'Bráðahjúkrun HJÚ0AVM': ['3/14/2022']}\n",
        "\n",
        "# til að opna sköl í vafra þarf að skipta út export?format=csv með edit?usp=sharing\n",
        "svor_nemenda = pd.read_csv('https://docs.google.com/spreadsheets/d/1Bc2mp7GOVaSmnqwFVwyBNrL9br-N6nbRsJ5Snx7U6ME/export?format=csv')\n",
        "svor_nemenda.index = svor_nemenda['Ónafngreint']; svor_nemenda.pop('Ónafngreint')\n",
        "svor_nemenda.columns = ['valnamskeid','heimahjukrun','heimahjukrun_deild','postnumer','heimahjukrun_utalandi','heimahjukrun_annad','stjornun','stjornun_deild','stjornun_annad','brada','brada_deild','brada_annad','barna','barna_','barna_deild','barna_annad','olett','stadfest']\n",
        "#valnamskeid = [v for i in svor_nemenda.index if type(svor_nemenda.loc[i,'valnamskeid']) == str for v in svor_nemenda.loc[i,'valnamskeid'].split(';') ]\n",
        "#valnamskeid = list(set(valnamskeid)); valnamskeid.remove('')\n",
        "valnamskeid = ['Bráðahjúkrun HJÚ0AVM',\n",
        "               'Andvari: Gjörgæsluhjúkrun HJÚ824M',\n",
        "               'Kynheilbrigði HJÚ823M',\n",
        "               #'Klínískri hjúkrun HJÚ823G',\n",
        "               'Konur heilsa og samfélag HJÚ827M',\n",
        "               'Líknarmeðferð HJÚ0AXM']\n",
        "valnamskeid_nemendur = {\n",
        "    i: [v for v in svor_nemenda.loc[i,'valnamskeid'].split(';') if v in valnamskeid] \n",
        "    for i in svor_nemenda.index if type(svor_nemenda.loc[i,'valnamskeid']) == str\n",
        "    }\n",
        "# skráning í valnámskeið (væri best að lesa úr Uglu!)\n",
        "nemendur_skraning = pd.read_csv('https://docs.google.com/spreadsheets/d/1uAD2Mbh8t2KuA9kJNtkBoLyzALR10oiU0cMvodT41qU/export?format=csv')\n",
        "nemendur = nemendur_skraning['Nemendur'] # nú hafa ekki allir nemendur svarað könnun, þannig að þetta skjal er með alla\n",
        "nemendur_skraning.pop(\"Nemendur\")\n",
        "nemendur_skraning.index = nemendur\n",
        "nemendur_skraning = nemendur_skraning.fillna(0).astype(int)\n",
        "\n",
        "for i in [j for j in nemendur if j not in valnamskeid_nemendur.keys()]:\n",
        "    valnamskeid_nemendur[i] = []\n",
        "valnamskeid_nemendur = dict(sorted(valnamskeid_nemendur.items()))\n",
        "# skráning nemenda í klíník (væri best að lesa úr Uglu!)\n",
        "klinik = nemendur_skraning.columns[1:].tolist()\n",
        "klinik_nemendur = {\n",
        "    i: [j for j in nemendur_skraning.columns if nemendur_skraning.loc[i,j] > 0]\n",
        "    for i in nemendur_skraning.index\n",
        "    }\n",
        "timalina = pd.read_csv('https://docs.google.com/spreadsheets/d/1ayHVl6wZ3DMhi3vs6yoU7thUhFZyCnr5OTgYVhSZUPU/export?format=csv')\n",
        "timalina.iloc[1,1:] = timalina.iloc[1,1:].isnull() # ef \"True\" þá má bóka þá viku\n",
        "dagsetning = timalina.columns[1:].tolist()   # dagsetningar sem samsvarar vikur\n",
        "klinik_fjoldi = pd.DataFrame(0,index = ['Hjúkrunarstjórnun HJÚ714G','Heimahjúkrun HJÚ711G','Barnahjúkrun HJÚ715G','Bráðahjúkrun HJÚ824G'], columns = dagsetning)\n",
        "klinik_fjoldi.loc['Hjúkrunarstjórnun HJÚ714G',['8/30/2021','9/13/2021','9/27/2021']] = [32,32,21]\n",
        "klinik_fjoldi.loc['Heimahjúkrun HJÚ711G',['8/30/2021','9/13/2021','9/27/2021','10/4/2021','11/8/2021','11/15/2021']] = [14,14,14,14,14,14]\n",
        "klinik_fjoldi.loc['Barnahjúkrun HJÚ715G',['11/8/2021','11/15/2021','1/31/2022','2/7/2022','2/14/2022','2/21/2022','2/28/2022','3/7/2022','3/14/2022','3/28/2022']] = [8,8,8,8,8,8,8,8,8,8]\n",
        "klinik_fjoldi.loc['Bráðahjúkrun HJÚ824G',['8/30/2021','9/13/2021','9/27/2021','10/4/2021','11/8/2021','11/15/2021', '1/31/2022', '2/7/2022', '2/14/2022', '2/21/2022', '2/28/2022', '3/7/2022', '3/14/2022', '3/21/2022']] = [6,6,6,6,6,6,6,6,6,6,6,6,6,6]"
      ]
    },
    {
      "cell_type": "code",
      "execution_count": 40,
      "metadata": {
        "id": "Fd2F53CgQPwx"
      },
      "outputs": [],
      "source": [
        "# laga heiti til að samræma könnun og MRS frá Landspítala\n",
        "rename = [\n",
        "('Barnadeild 22D/E Hringbraut', 'Barnadeild 22D/E Hringbraut'),\n",
        "('Bráðadeild G2/G3', 'Bráðadeild G2/G3'),\n",
        "('Bráðalyflækningadeild A2 Fossvogi', 'Bráðalyflækningadeild , A2 Fossvogur'),\n",
        "('Bráðamótaka BH og Göngudeild BH við Hringbraut', 'Bráðamóttaka BH og Göngudeild BH Hringbraut'),\n",
        "('Bráðaöldrunarlækningadeild B4 Fossvogi', 'Bráðaöldrunarlækningadeild B4 Fossvogi'),\n",
        "('Bæklunarskurðdeild B5 Fossvogi', 'Bæklunarskurðdeild , B5 Fossvogur'),\n",
        "('Endurhæfingardeild R2 Grensás', 'Endurhæfingardeild, Grensás R2-3'),\n",
        "('Gigtar og almenn lyflækningadeild B7 Fossvogi', 'Gigtar og almenn lyflækningadeild , B7 Fossvogur'),\n",
        "('Gjörgæsludeild Fossvogi', 'Gjörgæsla E6'),\n",
        "('Gjörgæsludeild Hringbraut', 'Gjörgæsludeild Hringbraut'),\n",
        "('HNE-, lýta- og æðaskurðdeild A4 Fossvogi', 'HNE-, lýta- og æðaskurðdeild, A4 Fossvogur'),\n",
        "('Heila-, tauga- og bæklunarskurðdeild  B6 Fossvogi', 'Heila-, tauga- og bæklunarskurðdeild, B6 Fossvogur'),\n",
        "('Hjarta- og lungnaskurðdeild og legudeild augndeildar 12G', 'Hjarta- og lungnaskurðdeild, og legudeild augndeildar, 12G Hringbraut'),\n",
        "('Hjartadeild 14 E/G ', 'Hjartadeild  , 14 E/G Hringbraut'),\n",
        "('Kvenlækningadeild 21A Hringbraut', 'Kvenlækningadeild 21A, Hringbraut'),\n",
        "('Lungnadeild A6 Fossvogi', 'Lungnadeild , A6 Fossvogur'),\n",
        "('Líknardeild Kópavogi', 'Líknardeildin , Líknard. Kópavogi'),\n",
        "('Meltingar- og nýrnadeild 12E Hringbraut', 'Meltingar- og nýrnadeild , 12E Hringbraut'),\n",
        "('Smitsjúkdómadeild A7 Fossvogi', 'Smitsjúkdómadeild , A7 Fossvogur'),\n",
        "('Taugalækningadeild B2 Fossvogi', 'Taugalækningadeild , B2 Fossvogur'),\n",
        "('Vökudeild 23D Hringbraut', 'Vökudeild 23D Hringbraut'),\n",
        "('Þvagfæra- og almenn skurðlækningadeild 13EG', 'Þvagfæra- og almenn skurðlækningadeild, 13EG Hringbraut')]"
      ]
    },
    {
      "cell_type": "code",
      "execution_count": 41,
      "metadata": {
        "id": "g9YUeBqiQUr5"
      },
      "outputs": [],
      "source": [
        "# vörpun á heiti\n",
        "match = [i for (i,j) in rename]\n",
        "match_mrs = [j for (i,j) in rename]\n",
        "\n",
        "# MRS skjöl fá Landspitala\n",
        "stjornun_deild_df = pd.read_csv('https://docs.google.com/spreadsheets/d/1qhsxnwm2OMzwxnKCgBPDdC453TAIcP1wsj4zha2-gN4/export?format=csv')\n",
        "\n",
        "# tékk á gögnum úr MSR\n",
        "for d in list(set(stjornun_deild_df['Frá'].tolist())):\n",
        "  if d not in dagsetning:\n",
        "    print(\"fann ekki timabil \", d)\n",
        "\n",
        "stjornun_deild = list(set(stjornun_deild_df['Deild'].tolist()))\n",
        "\n",
        "# skoðum aðeins nemendur sem svörðuðu könnun, aðrir fá allar deildir by default:\n",
        "stjornun_deild_nemendur = {}\n",
        "for i in svor_nemenda.index:\n",
        "  if type(svor_nemenda.loc[i,'stjornun_deild']) == str:\n",
        "    deildir = list(set([v for v in svor_nemenda.loc[i,'stjornun_deild'].split(';')])); deildir.remove('')\n",
        "    if len(deildir) > 0:\n",
        "        deild = []\n",
        "        for d in deildir:\n",
        "            if d in match:\n",
        "                deild.append(match_mrs[int(np.where(np.array(match) == d)[0])])\n",
        "    if (len(deild) == 0):\n",
        "        deild = stjornun_deild\n",
        "    stjornun_deild_nemendur[i] = deild\n",
        "for i in [j for j in nemendur if j not in stjornun_deild_nemendur.keys()]:\n",
        "    stjornun_deild_nemendur[i] = stjornun_deild\n",
        "# halda utan um deildir fyrir klínik\n",
        "deild = {'Hjúkrunarstjórnun HJÚ714G': stjornun_deild,\n",
        "         'Heimahjúkrun HJÚ711G': ['landsbyggd','hofudborgarsvaedi'],\n",
        "         'Barnahjúkrun HJÚ715G': ['barna'],\n",
        "         'Bráðahjúkrun HJÚ824G': ['brada'] }\n",
        "### BREYTING\n",
        "#\n",
        "#   bætum við valnámskeiðum\n",
        "#\n",
        "###\n",
        "for x in valnamskeid: deild[x] = ['val']"
      ]
    },
    {
      "cell_type": "code",
      "execution_count": 42,
      "metadata": {
        "id": "KowUU2DgQZYa"
      },
      "outputs": [],
      "source": [
        "count = stjornun_deild_df.groupby(['Frá'])['Deild'].value_counts()\n",
        "dag_ = list(set(stjornun_deild_df['Frá'].tolist()))\n",
        "deild_ = list(set(stjornun_deild_df['Deild'].tolist()))\n",
        "deild_ = deild_ + ['hofudborgarsvaedi','landsbyggd','barna','brada']\n",
        "plass_a_deild = pd.DataFrame(0,index = deild_, columns = dagsetning)\n",
        "for i in dag_:\n",
        "    for j in count[i].index.tolist():\n",
        "        plass_a_deild.loc[j,i] = count[i][j]\n",
        "plass_a_deild.loc['hofudborgarsvaedi',['8/30/2021','9/13/2021','9/27/2021','10/4/2021','11/8/2021','11/15/2021']] = [10,10,10,10,10,10]\n",
        "plass_a_deild.loc['landsbyggd',['8/30/2021','9/13/2021','9/27/2021','10/4/2021','11/8/2021','11/15/2021']] = [4,4,4,4,4,4]\n",
        "plass_a_deild.loc['barna',['11/8/2021','11/15/2021','1/31/2022','2/7/2022','2/14/2022','2/21/2022','2/28/2022','3/7/2022','3/14/2022','3/28/2022']] = [8,8,8,8,8,8,8,8,8,8]\n",
        "plass_a_deild.loc['brada',['8/30/2021','9/13/2021','9/27/2021','10/4/2021','11/8/2021','11/15/2021','1/31/2022','2/7/2022','2/14/2022','2/21/2022','2/28/2022','3/7/2022','3/14/2022','3/21/2022']] = 6 \n",
        "\n",
        "### BREYTING\n",
        "#\n",
        "# Bætum við hámarskfjölda fyrir valáfanga\n",
        "#\n",
        "###\n",
        "# plass_a_deild.loc['val', dagsetning] = 10\n"
      ]
    },
    {
      "cell_type": "markdown",
      "metadata": {
        "id": "OgwrqHj3Q7Fr"
      },
      "source": [
        "**2. Líkan**\n",
        "\n",
        "Lýsing á líkanið ykkar, nálganir og forsendur..."
      ]
    },
    {
      "cell_type": "code",
      "execution_count": 43,
      "metadata": {},
      "outputs": [
        {
          "name": "stdout",
          "output_type": "stream",
          "text": [
            "True\n"
          ]
        }
      ],
      "source": [
        "to_date = lambda x: datetime.strptime(x, \"%m/%d/%Y\")\n",
        "str1 = '11/8/2021'\n",
        "str2 = '11/15/2021'\n",
        "print(to_date(str1) < to_date(str2))"
      ]
    },
    {
      "cell_type": "code",
      "execution_count": 44,
      "metadata": {},
      "outputs": [
        {
          "name": "stdout",
          "output_type": "stream",
          "text": [
            "Passar ekki á 8/30/2021, mismunurinn er 1\n",
            "Passar ekki á 9/13/2021, mismunurinn er 1\n",
            "Passar ekki á 9/27/2021, mismunurinn er 1\n"
          ]
        }
      ],
      "source": [
        "passar = []\n",
        "passar_ekki = []\n",
        "for dagur in dagsetning:\n",
        "    sum_a = sum(plass_a_deild[dagur].to_list())\n",
        "    sum_b = sum(klinik_fjoldi[dagur].to_list())\n",
        "\n",
        "    if sum_a == sum_b:\n",
        "        passar.append(dagur)\n",
        "    else:\n",
        "        print(f\"Passar ekki á {dagur}, mismunurinn er {sum_a-sum_b}\")\n",
        "        passar_ekki.append(dagur)"
      ]
    },
    {
      "cell_type": "code",
      "execution_count": 45,
      "metadata": {},
      "outputs": [
        {
          "name": "stdout",
          "output_type": "stream",
          "text": [
            "Hjúkrunarstjórnun HJÚ714G:\n",
            "Fjöldi af skráðum nemendum = 76, pláss á klíník = 85\n",
            "Heimahjúkrun HJÚ711G:\n",
            "Fjöldi af skráðum nemendum = 77, pláss á klíník = 84\n",
            "Barnahjúkrun HJÚ715G:\n",
            "Fjöldi af skráðum nemendum = 80, pláss á klíník = 80\n",
            "Bráðahjúkrun HJÚ824G:\n",
            "Fjöldi af skráðum nemendum = 78, pláss á klíník = 84\n"
          ]
        }
      ],
      "source": [
        "for x in nemendur_skraning:\n",
        "    print(f\"{x}:\")\n",
        "    print(f\"Fjöldi af skráðum nemendum = {sum(nemendur_skraning[x].to_list())}, pláss á klíník = {sum(klinik_fjoldi.loc[x, :].to_list())}\")"
      ]
    },
    {
      "cell_type": "code",
      "execution_count": 46,
      "metadata": {},
      "outputs": [
        {
          "name": "stdout",
          "output_type": "stream",
          "text": [
            "Það eru 31 nemendur sem vilja skrá sig í Konur heilsa og samfélag HJÚ827M\n",
            "Það eru 35 nemendur sem vilja skrá sig í Kynheilbrigði HJÚ823M\n",
            "Það eru 27 nemendur sem vilja skrá sig í Bráðahjúkrun HJÚ0AVM\n",
            "Það eru 34 nemendur sem vilja skrá sig í Andvari: Gjörgæsluhjúkrun HJÚ824M\n",
            "Það eru 10 nemendur sem vilja skrá sig í Líknarmeðferð HJÚ0AXM\n"
          ]
        }
      ],
      "source": [
        "fjoldi = {}\n",
        "\n",
        "for x in valnamskeid_nemendur:\n",
        "    for s in valnamskeid_nemendur[x]:\n",
        "        if s not in fjoldi:\n",
        "            fjoldi[s] = 0\n",
        "        fjoldi[s] += 1\n",
        "\n",
        "for s in fjoldi:\n",
        "    print(f\"Það eru {fjoldi[s]} nemendur sem vilja skrá sig í {s}\")"
      ]
    },
    {
      "cell_type": "code",
      "execution_count": 47,
      "metadata": {},
      "outputs": [],
      "source": [
        "def shuffle_list(afangar: list[str]) -> list[str]:\n",
        "    shuffle(afangar)\n",
        "    return afangar"
      ]
    },
    {
      "cell_type": "code",
      "execution_count": 48,
      "metadata": {},
      "outputs": [
        {
          "name": "stdout",
          "output_type": "stream",
          "text": [
            "[2, 2, 2, 2, 2, 2, 0, 2, 2, 2, 1, 2, 2, 2, 1, 2, 1, 2, 2, 2, 2, 0, 2, 2, 3, 2, 0, 2, 2, 2, 2, 2, 2, 1, 2, 0, 2, 2, 2, 2, 0, 2, 2, 2, 1, 2, 3, 3, 0, 2, 1, 0, 2, 0, 2, 2, 2, 2, 2, 2, 2, 2, 2, 3, 2, 2, 2, 2, 2, 2, 2, 2, 0, 0, 2, 2, 2, 2, 2, 1]\n"
          ]
        }
      ],
      "source": [
        "test = [len(valnamskeid_nemendur[x]) for x in valnamskeid_nemendur]\n",
        "print(test)"
      ]
    },
    {
      "cell_type": "code",
      "execution_count": 51,
      "metadata": {
        "id": "Y62zH0M5QdrZ"
      },
      "outputs": [
        {
          "name": "stdout",
          "output_type": "stream",
          "text": [
            "Gurobi Optimizer version 9.5.1 build v9.5.1rc2 (win64)\n",
            "Thread count: 4 physical cores, 8 logical processors, using up to 8 threads\n",
            "Optimize a model with 17246 rows, 71251 columns and 289795 nonzeros\n",
            "Model fingerprint: 0xeaceb849\n",
            "Variable types: 4022 continuous, 67229 integer (67229 binary)\n",
            "Coefficient statistics:\n",
            "  Matrix range     [1e+00, 1e+00]\n",
            "  Objective range  [0e+00, 0e+00]\n",
            "  Bounds range     [1e+00, 3e+01]\n",
            "  RHS range        [1e+00, 3e+01]\n",
            "Presolve removed 2200 rows and 62519 columns\n",
            "Presolve time: 0.08s\n",
            "\n",
            "Explored 0 nodes (0 simplex iterations) in 0.26 seconds (0.07 work units)\n",
            "Thread count was 1 (of 8 available processors)\n",
            "\n",
            "Solution count 0\n",
            "\n",
            "Model is infeasible\n",
            "Best objective -, best bound -, gap -\n"
          ]
        }
      ],
      "source": [
        "# útfærsla á líkani með Gurobi\n",
        "namskeid = klinik_fjoldi.index.tolist()\n",
        "jolaprof = 21\n",
        "m = gp.Model(\"Klínik\") # frumstilla Gurobi líkan\n",
        "\n",
        "x = m.addVars([(s,c,d,k) for s in nemendur for c in (namskeid+valnamskeid_nemendur[s]) for d in dagsetning for k in deild[c]], vtype=gp.GRB.BINARY)\n",
        "\n",
        "\n",
        "\n",
        "# Ef nemandi er í HJÚ0AVM þá þarf HJÚ824G að vera einnig á haustönn en samt kennt á undan\n",
        "m.addConstrs(\n",
        "    x[s,'Bráðahjúkrun HJÚ0AVM',d2,'val'] <= x[s,'Bráðahjúkrun HJÚ824G',d1,'brada']\n",
        "    for s in nemendur if 'Bráðahjúkrun HJÚ0AVM' in valnamskeid_nemendur[s]\n",
        "    for i, d1 in enumerate(dagsetning) for d2 in dagsetning[max(i, jolaprof):]\n",
        ")\n",
        "\n",
        "# Hér eru nemendur skráðir í áfangana\n",
        "m.addConstrs(\n",
        "    gp.quicksum(x[s,c,d,k] for d in dagsetning for k in deild[c]) \n",
        "    == nemendur_skraning.loc[s,c] for s in nemendur for c in namskeid\n",
        ")\n",
        "\n",
        "# Hér eru nemendur skráðir í valáfangana\n",
        "m.addConstrs(\n",
        "    gp.quicksum(x[s,c,d,k] for d in dagsetning[jolaprof:] for c in valnamskeid_nemendur[s] for k in deild[c]) \n",
        "    == min(2, len(valnamskeid_nemendur[s])) for s in nemendur\n",
        ")\n",
        "m.addConstrs(\n",
        "    gp.quicksum(x[s,c,d,k] for k in deild[c] for d in dagsetning[jolaprof:])\n",
        "    == [0,1] for s in nemendur for c in valnamskeid_nemendur[s]\n",
        ")\n",
        "\n",
        "\n",
        "m.addConstrs(\n",
        "    gp.quicksum(x[s,c,d,k] for c in valnamskeid_nemendur[s] for d in dagsetning[jolaprof:] for k in deild[c]) \n",
        "    == min(2, len(valnamskeid_nemendur[s])) for s in nemendur\n",
        ")\n",
        "\n",
        "\n",
        "# m.addConstrs(\n",
        "#     gp.quicksum(x[s,c,d,k] for c in valnamskeid for d in dagsetning[:jolaprof] for k in deild[c]) \n",
        "#     == 0 for s in nemendur\n",
        "# )\n",
        "\n",
        "# Hver nemandi getur bara tekið einn áfanga að hámarki fyrir hverja dagsetningu\n",
        "m.addConstrs(\n",
        "    gp.quicksum(x[s,c,d,k] for c in (namskeid+valnamskeid_nemendur[s]) for k in deild[c]) \n",
        "    == [0,1] for d in dagsetning for s in nemendur\n",
        ")\n",
        "\n",
        "# Hver klíník hefur hámarks pláss\n",
        "m.addConstrs(\n",
        "    gp.quicksum(x[s,c,d,k] for s in nemendur for k in deild[c]) \n",
        "    == [0, klinik_fjoldi.loc[c,d]] for c in namskeid for d in dagsetning\n",
        ")\n",
        "\n",
        "# Hver deild hefur hámarks pláss\n",
        "m.addConstrs(\n",
        "    gp.quicksum(x[s,c,d,k] for s in nemendur) \n",
        "    == [0, plass_a_deild.loc[k,d]] for c in namskeid for k in deild[c] for d in dagsetning\n",
        ")\n",
        "\n",
        "\n",
        "\n",
        "\n",
        "\n",
        "\n",
        "\n",
        "# m.setObjective(gp.quicksum(x[s,c,d,k] for s in nemendur for c in valnamskeid_nemendur[s] for d in dagsetning for k in deild[c]), gp.GRB.MAXIMIZE)\n",
        "\n",
        "\n",
        "m.optimize()"
      ]
    },
    {
      "cell_type": "code",
      "execution_count": null,
      "metadata": {},
      "outputs": [],
      "source": [
        "for s in nemendur:\n",
        "    for d in dagsetning: \n",
        "\n",
        "        cnt = 0\n",
        "        for c in (namskeid+valnamskeid_nemendur[s]):\n",
        "            for k in deild[c]:\n",
        "                if x[s,c,d,k].X>0:\n",
        "                    cnt += 1\n",
        "        if cnt not in [0,1]:\n",
        "            print(s, cnt)"
      ]
    },
    {
      "cell_type": "code",
      "execution_count": null,
      "metadata": {},
      "outputs": [],
      "source": [
        "for s in nemendur:\n",
        "    cnt = 0\n",
        "    for d in dagsetning: \n",
        "        for c in valnamskeid_nemendur[s]:\n",
        "            if x[s,c,d,'val'].X>0:\n",
        "                cnt += 1\n",
        "    if cnt not in [0,1,2]:\n",
        "        print(s, cnt)"
      ]
    },
    {
      "cell_type": "code",
      "execution_count": null,
      "metadata": {
        "id": "09YcBza2Qtf5"
      },
      "outputs": [
        {
          "ename": "AttributeError",
          "evalue": "Unable to retrieve attribute 'X'",
          "output_type": "error",
          "traceback": [
            "\u001b[1;31m---------------------------------------------------------------------------\u001b[0m",
            "\u001b[1;31mAttributeError\u001b[0m                            Traceback (most recent call last)",
            "\u001b[1;32md:\\Skóli\\Vor\\Aðgerðar\\TV5\\TV-5.ipynb Cell 18'\u001b[0m in \u001b[0;36m<cell line: 3>\u001b[1;34m()\u001b[0m\n\u001b[0;32m      <a href='vscode-notebook-cell:/d%3A/Sk%C3%B3li/Vor/A%C3%B0ger%C3%B0ar/TV5/TV-5.ipynb#ch0000017?line=4'>5</a>\u001b[0m \u001b[39mfor\u001b[39;00m c \u001b[39min\u001b[39;00m (namskeid \u001b[39m+\u001b[39m valnamskeid_nemendur[s]):\n\u001b[0;32m      <a href='vscode-notebook-cell:/d%3A/Sk%C3%B3li/Vor/A%C3%B0ger%C3%B0ar/TV5/TV-5.ipynb#ch0000017?line=5'>6</a>\u001b[0m     \u001b[39mfor\u001b[39;00m k \u001b[39min\u001b[39;00m deild[c]:\n\u001b[1;32m----> <a href='vscode-notebook-cell:/d%3A/Sk%C3%B3li/Vor/A%C3%B0ger%C3%B0ar/TV5/TV-5.ipynb#ch0000017?line=6'>7</a>\u001b[0m         \u001b[39mif\u001b[39;00m (x[s,c,d,k]\u001b[39m.\u001b[39;49mX \u001b[39m>\u001b[39m \u001b[39m0\u001b[39m):\n\u001b[0;32m      <a href='vscode-notebook-cell:/d%3A/Sk%C3%B3li/Vor/A%C3%B0ger%C3%B0ar/TV5/TV-5.ipynb#ch0000017?line=7'>8</a>\u001b[0m             stundatafla\u001b[39m.\u001b[39mloc[s,d] \u001b[39m=\u001b[39m stundatafla\u001b[39m.\u001b[39mloc[s,d] \u001b[39m+\u001b[39m c \u001b[39m+\u001b[39m \u001b[39m\"\u001b[39m\u001b[39m (\u001b[39m\u001b[39m\"\u001b[39m\u001b[39m+\u001b[39mk\u001b[39m+\u001b[39m\u001b[39m\"\u001b[39m\u001b[39m)\u001b[39m\u001b[39m\"\u001b[39m\n\u001b[0;32m      <a href='vscode-notebook-cell:/d%3A/Sk%C3%B3li/Vor/A%C3%B0ger%C3%B0ar/TV5/TV-5.ipynb#ch0000017?line=8'>9</a>\u001b[0m             \u001b[39mif\u001b[39;00m c \u001b[39min\u001b[39;00m [\u001b[39m'\u001b[39m\u001b[39mHjúkrunarstjórnun HJÚ714G\u001b[39m\u001b[39m'\u001b[39m,\u001b[39m'\u001b[39m\u001b[39mBarnahjúkrun HJÚ715G\u001b[39m\u001b[39m'\u001b[39m]:\n",
            "File \u001b[1;32msrc\\gurobipy\\var.pxi:125\u001b[0m, in \u001b[0;36mgurobipy.Var.__getattr__\u001b[1;34m()\u001b[0m\n",
            "File \u001b[1;32msrc\\gurobipy\\var.pxi:153\u001b[0m, in \u001b[0;36mgurobipy.Var.getAttr\u001b[1;34m()\u001b[0m\n",
            "File \u001b[1;32msrc\\gurobipy\\attrutil.pxi:100\u001b[0m, in \u001b[0;36mgurobipy.__getattr\u001b[1;34m()\u001b[0m\n",
            "\u001b[1;31mAttributeError\u001b[0m: Unable to retrieve attribute 'X'"
          ]
        }
      ],
      "source": [
        "# mynda stundatöflu og skrifa í Excel:\n",
        "stundatafla = pd.DataFrame(\"\",index=nemendur, columns = dagsetning)\n",
        "for s in nemendur:\n",
        "    for i, d in enumerate(dagsetning):\n",
        "        for c in (namskeid + valnamskeid_nemendur[s]):\n",
        "            for k in deild[c]:\n",
        "                if (x[s,c,d,k].X > 0):\n",
        "                    stundatafla.loc[s,d] = stundatafla.loc[s,d] + c + \" (\"+k+\")\"\n",
        "                    if c in ['Hjúkrunarstjórnun HJÚ714G','Barnahjúkrun HJÚ715G']:\n",
        "                        if i < len(dagsetning):\n",
        "                            stundatafla.loc[s,dagsetning[i+1]] = stundatafla.loc[s,dagsetning[i+1]] + c + \" (\"+k+\")\"\n",
        "# https://stackoverflow.com/questions/62783783/how-to-change-the-background-color-of-excel-cells-rows-using-pandas EÐA bara:\n",
        "stundatafla.to_excel('stundatafla.xlsx')\n",
        "stundatafla"
      ]
    },
    {
      "cell_type": "markdown",
      "metadata": {
        "id": "k_UqMADtRhzT"
      },
      "source": [
        "**3. Niðurstöður**\n",
        "\n",
        "Túlkun á lausn. Er hún í lagi? Hvað vantar?"
      ]
    }
  ],
  "metadata": {
    "colab": {
      "collapsed_sections": [],
      "name": "TV-5 niðurröðun fyrir klínik.ipynb",
      "provenance": []
    },
    "kernelspec": {
      "display_name": "Python 3",
      "name": "python3"
    },
    "language_info": {
      "codemirror_mode": {
        "name": "ipython",
        "version": 3
      },
      "file_extension": ".py",
      "mimetype": "text/x-python",
      "name": "python",
      "nbconvert_exporter": "python",
      "pygments_lexer": "ipython3",
      "version": "3.10.4"
    }
  },
  "nbformat": 4,
  "nbformat_minor": 0
}
