{
  "cells": [
    {
      "cell_type": "markdown",
      "metadata": {
        "id": "_6Vrsy5Oaofl"
      },
      "source": [
        "**Verkefnalýsing**\n",
        "\n",
        "Hjúkrunarfræðideild þarf að raða niður öllum nemendum sem eru á fjórða ári í hjúkrun í bókleg námskeið og í klíník. Klíník er starfsnám þar sem nemendur þurfa að vinna á stofnun eða spítala undir handleiðslu kennara á svæðinu.\n",
        "\n",
        "Tveir áfangar eru með það fáa í hóp í einu að klíníkin þar þarf að dreifast yfir heilt ár og því þarf að fylgjast vel með að allir komist í klíník og klári allt sem þarf til að útskrifast. Þessir áfangar eru Barnahjúkrun og Bráðahjúkrun. \n",
        "\n",
        "Áfangar sem er skylt er að taka á  fjórða ári eru:\n",
        "\n",
        "**Haust:**\n",
        "\n",
        "*   Heimahjúkrun - þarf klíník sem klárast haustið \n",
        "*   Hjúkrunarstjórnun - þarf klíník sem klárast um haustið\n",
        "*   Langveikir og heilbrigðisþjónustan - eingöngu bóklegur áfangi haustið\n",
        "*   Ofbeldi og geðrækt - eingöngu bóklegur áfangi sem klárast um haustið\n",
        "*   Bráðahjúkrun - bóklegur og klínískur áfangi þar sem bóklegi hlutinn klárast um haustið en klíníkin byrjar um haustið og lýkur um vorið\n",
        "*   Barnahjúkrun - bóklegur og klínískur áfangi þar sem bóklegi hlutinn klárast um haustið en klíníkin byrjar um haustið og lýkur um vorið\n",
        "\n",
        "Klínískt nám má byrja í 35 viku (29.08.2022 og standa yfir í 6 vikur) þá tekur við bóklegt nám til viku 45 (7.11.2022 og er í 3 vikur). Á þeim þrem vikum má koma fyrir tveim hópum í Barnahjúkrun, tveim í Bráðahjúkrun og tveim í Heimahjúkrun. \n",
        "\n",
        "**Vor:**\n",
        "\n",
        "Nemendur fá að velja sér tvo valáfanga af fimm sem eru í boði. Þeir eru:\n",
        "\n",
        "*   Kynheilbrigði \n",
        "*   Konur, heilsa og samfélag\n",
        "*   Bráðahjúkrun framhaldsnámskeið (ATH nemendur verða að vera búnir með klíník í Bráðahjúkrun til að  mega taka þennan áfanga) best er að allir sem taka Bráða í val klári bráða skyldu á haustönn \n",
        "*   Andvari: Gjörgæsluhjúkrun\n",
        "*   Líknarmeðferð\n",
        "\n",
        "Meðfram kennslunni þurfa nemendur að taka klíník í Barnahjúkrun og Bráðahjúkrun. Út af plássleysi er ekki hægt að koma fyrir klíník fyrr en í 5 viku (31 janúar 2022) en þá má klíník í Barnahjúkrun og Bráðahjúkrun byrja og klíníkin endar í viku 12 og seinni vikan í Barnahjúkrun endar í viku 13.\n",
        "\n",
        "Nemendur svara spurningalista sem sendur er út í apríl-maí 2021 þar sem spurt er um hvar þeir hafi starfað síðastliðin 2. ár eða hvort eitthvað geti útilokað þau frá því að vinna á ákveðnum deildum (nema í Hjúkrunarstjórnun þar sem þau eiga að hafa unnið á deildinni sem þau eru sett í).\n",
        "\n",
        "Þegar búið er að raða nemendum niður á heildar myndina þá er farið að velja deildir og reynt að taka mið af búsetu nemanda eins og hægt er. \n",
        "\n",
        "**Takmarkanir**:\n",
        "\n",
        "\n",
        "\n",
        "Nafn\t|\tLengd á klíník per nemenda |\tFjöldi í hverjum hóp |  Forkrafa\n",
        "--- | ---  | --- | --- \n",
        "Heimahjúkrun\t|\t1 vika\t|\t\t13 cirka\t|\t\tEkki unnið áður\n",
        "Hjúkrunarstjórnun\t| 2 vikur\t\t|\t40 cirka\t|\t\tVerður að þekkja deild+\n",
        "Bráðahjúkrun\t|\t1 vika\t|\t\t6\t|\t\tSkiptir ekki máli\n",
        "Barnahjúkrun\t|\t2 vikur++\t|\t\t8\t|\t\tEkki unnið áður\n",
        "\n",
        "+Hafa unnið á deildinni í verknámi eða sem starfsmaður. <br>\n",
        "++Seinni vikan er við HÍ, þannig að fjöldatakmörkun 8 gildir aðeins fyrir fyrstu viku.\n",
        "\n",
        "Aðrar athugasemdir:\n",
        "\n",
        "> Við fáum mismörg pláss út á landsbyggðinni. Í MRS skjalinu þá var bara sett Landsbyggð af því að það átti eftir að spyrja nemendur hvert þau vildu fara (Ísafjörð, Neskaupsstað osfrv.) en væri hægt að segja að plássin út á landi væru mest í byrjun (því við reynum að klára þau út af Íslenskri veðráttu). Í meðfylgjandi skjali sérðu nöfnin á þeim stöðum sem við notum og svo plássin sem við fengum í hvert skipti (að sjálfsögðu breytist það á hverju ári en við þurfum ekki að hugsa um það núna). En þetta er ekki stærsta atriðið, vildum bara benda á þetta.\n",
        " \n",
        "> Varðandi skipulagsskjalið þá eru það plássin sem við höldum að við þurfum fyrir hvert holl, við fáum oft tóm pláss (s.s. pláss sem við getum ekki nýtt) í MRS skjölunum en þau eru pláss sem við notum til að hlaupa upp á ef t.d. nemandi verður veikur eða eitthvað kemur upp.\n",
        " \n"
      ]
    },
    {
      "cell_type": "code",
      "execution_count": 13,
      "metadata": {
        "colab": {
          "base_uri": "https://localhost:8080/"
        },
        "id": "uuHDcqLcdsTr",
        "outputId": "21617e86-256e-4176-dfe4-3816f05b97bc"
      },
      "outputs": [],
      "source": [
        "import pandas as pd\n",
        "import numpy as np\n",
        "# Athugið að verkefnið er of stórt til að keyra í Colab! Þið þurfið að sækja Gurobi+Academic License\n",
        "\n",
        "import gurobipy as gp\n",
        "from datetime import datetime\n",
        "pd.set_option('display.max_rows', 100)\n",
        "pd.set_option('display.max_columns', 100)"
      ]
    },
    {
      "cell_type": "code",
      "execution_count": 14,
      "metadata": {},
      "outputs": [
        {
          "name": "stdout",
          "output_type": "stream",
          "text": [
            "False\n"
          ]
        }
      ],
      "source": [
        "str1 = '2018/06/29'\n",
        "str2 = '2019/06/29'\n",
        "date1 = datetime.strptime(str1, '%Y/%m/%d')\n",
        "date2 = datetime.strptime(str2, '%Y/%m/%d')\n",
        "print(date1>date2)"
      ]
    },
    {
      "cell_type": "markdown",
      "metadata": {
        "id": "4aMbjRIUSATY"
      },
      "source": [
        "**1. Gagnavinnsla**\n"
      ]
    },
    {
      "cell_type": "code",
      "execution_count": 15,
      "metadata": {},
      "outputs": [],
      "source": [
        "def to_date(date: str) -> datetime:\n",
        "    return datetime.strptime(date, '%m/%d/%Y')"
      ]
    },
    {
      "cell_type": "code",
      "execution_count": 16,
      "metadata": {
        "id": "PP9WRaTSQJMe"
      },
      "outputs": [],
      "source": [
        "# ef nemandi er skráður í þessi valnámskeið má hann ekki vera í klínik á þessum dögum\n",
        "stundata = {'Andvari: Gjörgæsluhjúkrun HJÚ824M' : list(map(to_date, ['1/17/2022','1/24/2022','2/21/2022'])),\n",
        "            'Kynheilbrigði HJÚ823M' : list(map(to_date, ['2/7/2022','3/7/2022','3/28/2022','4/4/2022'])),\n",
        "            'Líknarmeðferð HJÚ0AXM' : list(map(to_date, ['1/31/2022','2/28/2022'])),\n",
        "            'Konur heilsa og samfélag HJÚ827M' : list(map(to_date, ['3/7/2022','3/14/2022','4/4/2022'])),\n",
        "            'Bráðahjúkrun HJÚ0AVM': list(map(to_date, ['3/14/2022']))}\n",
        "\n",
        "# til að opna sköl í vafra þarf að skipta út export?format=csv með edit?usp=sharing\n",
        "svor_nemenda = pd.read_csv('https://docs.google.com/spreadsheets/d/1Bc2mp7GOVaSmnqwFVwyBNrL9br-N6nbRsJ5Snx7U6ME/export?format=csv')\n",
        "svor_nemenda.index = svor_nemenda['Ónafngreint']; svor_nemenda.pop('Ónafngreint')\n",
        "svor_nemenda.columns = ['valnamskeid','heimahjukrun','heimahjukrun_deild','postnumer','heimahjukrun_utalandi','heimahjukrun_annad','stjornun','stjornun_deild','stjornun_annad','brada','brada_deild','brada_annad','barna','barna_','barna_deild','barna_annad','olett','stadfest']\n",
        "#valnamskeid = [v for i in svor_nemenda.index if type(svor_nemenda.loc[i,'valnamskeid']) == str for v in svor_nemenda.loc[i,'valnamskeid'].split(';') ]\n",
        "#valnamskeid = list(set(valnamskeid)); valnamskeid.remove('')\n",
        "valnamskeid = ['Bráðahjúkrun HJÚ0AVM',\n",
        "               'Andvari: Gjörgæsluhjúkrun HJÚ824M',\n",
        "               'Kynheilbrigði HJÚ823M',\n",
        "               #'Klínískri hjúkrun HJÚ823G',\n",
        "               'Konur heilsa og samfélag HJÚ827M',\n",
        "               'Líknarmeðferð HJÚ0AXM']\n",
        "valnamskeid_nemendur = {\n",
        "    i: [v for v in svor_nemenda.loc[i,'valnamskeid'].split(';') if v in valnamskeid] \n",
        "    for i in svor_nemenda.index if type(svor_nemenda.loc[i,'valnamskeid']) == str\n",
        "    }\n",
        "# skráning í valnámskeið (væri best að lesa úr Uglu!)\n",
        "nemendur_skraning = pd.read_csv('https://docs.google.com/spreadsheets/d/1uAD2Mbh8t2KuA9kJNtkBoLyzALR10oiU0cMvodT41qU/export?format=csv')\n",
        "nemendur = nemendur_skraning['Nemendur'] # nú hafa ekki allir nemendur svarað könnun, þannig að þetta skjal er með alla\n",
        "nemendur_skraning.pop(\"Nemendur\")\n",
        "nemendur_skraning.index = nemendur\n",
        "nemendur_skraning = nemendur_skraning.fillna(0).astype(int)\n",
        "\n",
        "for i in [j for j in nemendur if j not in valnamskeid_nemendur.keys()]:\n",
        "    valnamskeid_nemendur[i] = []\n",
        "valnamskeid_nemendur = dict(sorted(valnamskeid_nemendur.items()))\n",
        "# skráning nemenda í klíník (væri best að lesa úr Uglu!)\n",
        "klinik = nemendur_skraning.columns[1:].tolist()\n",
        "klinik_nemendur = {\n",
        "    i: [j for j in nemendur_skraning.columns if nemendur_skraning.loc[i,j] > 0]\n",
        "    for i in nemendur_skraning.index\n",
        "    }\n",
        "timalina = pd.read_csv('https://docs.google.com/spreadsheets/d/1ayHVl6wZ3DMhi3vs6yoU7thUhFZyCnr5OTgYVhSZUPU/export?format=csv')\n",
        "timalina.iloc[1,1:] = timalina.iloc[1,1:].isnull() # ef \"True\" þá má bóka þá viku\n",
        "dagsetning = timalina.columns[1:].tolist()   # dagsetningar sem samsvarar vikur\n",
        "klinik_fjoldi = pd.DataFrame(0,index = ['Hjúkrunarstjórnun HJÚ714G','Heimahjúkrun HJÚ711G','Barnahjúkrun HJÚ715G','Bráðahjúkrun HJÚ824G'], columns = dagsetning)\n",
        "klinik_fjoldi.loc['Hjúkrunarstjórnun HJÚ714G', list(map(to_date, ['8/30/2021','9/13/2021','9/27/2021']))] = [32,32,21]\n",
        "klinik_fjoldi.loc['Heimahjúkrun HJÚ711G', list(map(to_date, ['8/30/2021','9/13/2021','9/27/2021','10/4/2021','11/8/2021','11/15/2021']))] = [14,14,14,14,14,14]\n",
        "klinik_fjoldi.loc['Barnahjúkrun HJÚ715G', list(map(to_date, ['11/8/2021','11/15/2021','1/31/2022','2/7/2022','2/14/2022','2/21/2022','2/28/2022','3/7/2022','3/14/2022','3/28/2022']))] = [8,8,8,8,8,8,8,8,8,8]\n",
        "klinik_fjoldi.loc['Bráðahjúkrun HJÚ824G', list(map(to_date, ['8/30/2021','9/13/2021','9/27/2021','10/4/2021','11/8/2021','11/15/2021', '1/31/2022', '2/7/2022', '2/14/2022', '2/21/2022', '2/28/2022', '3/7/2022', '3/14/2022', '3/21/2022']))] = [6,6,6,6,6,6,6,6,6,6,6,6,6,6]"
      ]
    },
    {
      "cell_type": "code",
      "execution_count": 17,
      "metadata": {
        "id": "Fd2F53CgQPwx"
      },
      "outputs": [],
      "source": [
        "# laga heiti til að samræma könnun og MRS frá Landspítala\n",
        "rename = [\n",
        "('Barnadeild 22D/E Hringbraut', 'Barnadeild 22D/E Hringbraut'),\n",
        "('Bráðadeild G2/G3', 'Bráðadeild G2/G3'),\n",
        "('Bráðalyflækningadeild A2 Fossvogi', 'Bráðalyflækningadeild , A2 Fossvogur'),\n",
        "('Bráðamótaka BH og Göngudeild BH við Hringbraut', 'Bráðamóttaka BH og Göngudeild BH Hringbraut'),\n",
        "('Bráðaöldrunarlækningadeild B4 Fossvogi', 'Bráðaöldrunarlækningadeild B4 Fossvogi'),\n",
        "('Bæklunarskurðdeild B5 Fossvogi', 'Bæklunarskurðdeild , B5 Fossvogur'),\n",
        "('Endurhæfingardeild R2 Grensás', 'Endurhæfingardeild, Grensás R2-3'),\n",
        "('Gigtar og almenn lyflækningadeild B7 Fossvogi', 'Gigtar og almenn lyflækningadeild , B7 Fossvogur'),\n",
        "('Gjörgæsludeild Fossvogi', 'Gjörgæsla E6'),\n",
        "('Gjörgæsludeild Hringbraut', 'Gjörgæsludeild Hringbraut'),\n",
        "('HNE-, lýta- og æðaskurðdeild A4 Fossvogi', 'HNE-, lýta- og æðaskurðdeild, A4 Fossvogur'),\n",
        "('Heila-, tauga- og bæklunarskurðdeild  B6 Fossvogi', 'Heila-, tauga- og bæklunarskurðdeild, B6 Fossvogur'),\n",
        "('Hjarta- og lungnaskurðdeild og legudeild augndeildar 12G', 'Hjarta- og lungnaskurðdeild, og legudeild augndeildar, 12G Hringbraut'),\n",
        "('Hjartadeild 14 E/G ', 'Hjartadeild  , 14 E/G Hringbraut'),\n",
        "('Kvenlækningadeild 21A Hringbraut', 'Kvenlækningadeild 21A, Hringbraut'),\n",
        "('Lungnadeild A6 Fossvogi', 'Lungnadeild , A6 Fossvogur'),\n",
        "('Líknardeild Kópavogi', 'Líknardeildin , Líknard. Kópavogi'),\n",
        "('Meltingar- og nýrnadeild 12E Hringbraut', 'Meltingar- og nýrnadeild , 12E Hringbraut'),\n",
        "('Smitsjúkdómadeild A7 Fossvogi', 'Smitsjúkdómadeild , A7 Fossvogur'),\n",
        "('Taugalækningadeild B2 Fossvogi', 'Taugalækningadeild , B2 Fossvogur'),\n",
        "('Vökudeild 23D Hringbraut', 'Vökudeild 23D Hringbraut'),\n",
        "('Þvagfæra- og almenn skurðlækningadeild 13EG', 'Þvagfæra- og almenn skurðlækningadeild, 13EG Hringbraut')]"
      ]
    },
    {
      "cell_type": "code",
      "execution_count": 18,
      "metadata": {
        "id": "g9YUeBqiQUr5"
      },
      "outputs": [],
      "source": [
        "# vörpun á heiti\n",
        "match = [i for (i,j) in rename]\n",
        "match_mrs = [j for (i,j) in rename]\n",
        "\n",
        "# MRS skjöl fá Landspitala\n",
        "stjornun_deild_df = pd.read_csv('https://docs.google.com/spreadsheets/d/1qhsxnwm2OMzwxnKCgBPDdC453TAIcP1wsj4zha2-gN4/export?format=csv')\n",
        "\n",
        "# tékk á gögnum úr MSR\n",
        "for d in list(set(stjornun_deild_df['Frá'].tolist())):\n",
        "  if d not in dagsetning:\n",
        "    print(\"fann ekki timabil \", d)\n",
        "\n",
        "stjornun_deild = list(set(stjornun_deild_df['Deild'].tolist()))\n",
        "\n",
        "# skoðum aðeins nemendur sem svörðuðu könnun, aðrir fá allar deildir by default:\n",
        "stjornun_deild_nemendur = {}\n",
        "for i in svor_nemenda.index:\n",
        "  if type(svor_nemenda.loc[i,'stjornun_deild']) == str:\n",
        "    deildir = list(set([v for v in svor_nemenda.loc[i,'stjornun_deild'].split(';')])); deildir.remove('')\n",
        "    if len(deildir) > 0:\n",
        "        deild = []\n",
        "        for d in deildir:\n",
        "            if d in match:\n",
        "                deild.append(match_mrs[int(np.where(np.array(match) == d)[0])])\n",
        "    if (len(deild) == 0):\n",
        "        deild = stjornun_deild\n",
        "    stjornun_deild_nemendur[i] = deild\n",
        "for i in [j for j in nemendur if j not in stjornun_deild_nemendur.keys()]:\n",
        "    stjornun_deild_nemendur[i] = stjornun_deild\n",
        "# halda utan um deildir fyrir klínik\n",
        "deild = {'Hjúkrunarstjórnun HJÚ714G': stjornun_deild,\n",
        "         'Heimahjúkrun HJÚ711G': ['landsbyggd','hofudborgarsvaedi'],\n",
        "         'Barnahjúkrun HJÚ715G': ['barna'],\n",
        "         'Bráðahjúkrun HJÚ824G': ['brada'] }"
      ]
    },
    {
      "cell_type": "code",
      "execution_count": 19,
      "metadata": {
        "id": "KowUU2DgQZYa"
      },
      "outputs": [],
      "source": [
        "count = stjornun_deild_df.groupby(['Frá'])['Deild'].value_counts()\n",
        "dag_ = list(set(stjornun_deild_df['Frá'].tolist()))\n",
        "deild_ = list(set(stjornun_deild_df['Deild'].tolist()))\n",
        "deild_ = deild_ + ['hofudborgarsvaedi','landsbyggd','barna','brada']\n",
        "plass_a_deild = pd.DataFrame(0,index = deild_, columns = dagsetning)\n",
        "for i in dag_:\n",
        "    for j in count[i].index.tolist():\n",
        "        plass_a_deild.loc[j,i] = count[i][j]\n",
        "plass_a_deild.loc['hofudborgarsvaedi', list(map(to_date, ['8/30/2021','9/13/2021','9/27/2021','10/4/2021','11/8/2021','11/15/2021']))] = [10,10,10,10,10,10]\n",
        "plass_a_deild.loc['landsbyggd', list(map(to_date, ['8/30/2021','9/13/2021','9/27/2021','10/4/2021','11/8/2021','11/15/2021']))] = [4,4,4,4,4,4]\n",
        "plass_a_deild.loc['barna', list(map(to_date, ['11/8/2021','11/15/2021','1/31/2022','2/7/2022','2/14/2022','2/21/2022','2/28/2022','3/7/2022','3/14/2022','3/28/2022']))] = [8,8,8,8,8,8,8,8,8,8]\n",
        "plass_a_deild.loc['brada', list(map(to_date, ['8/30/2021','9/13/2021','9/27/2021','10/4/2021','11/8/2021','11/15/2021','1/31/2022','2/7/2022','2/14/2022','2/21/2022','2/28/2022','3/7/2022','3/14/2022','3/21/2022']))] = 6 \n",
        "#plass_a_deild #.sum(axis=0)"
      ]
    },
    {
      "cell_type": "markdown",
      "metadata": {
        "id": "OgwrqHj3Q7Fr"
      },
      "source": [
        "**2. Líkan**\n",
        "\n",
        "Lýsing á líkanið ykkar, nálganir og forsendur..."
      ]
    },
    {
      "cell_type": "code",
      "execution_count": 21,
      "metadata": {
        "id": "Y62zH0M5QdrZ"
      },
      "outputs": [
        {
          "name": "stdout",
          "output_type": "stream",
          "text": [
            "Set parameter Username\n",
            "Academic license - for non-commercial use only - expires 2023-03-30\n",
            "Gurobi Optimizer version 9.5.1 build v9.5.1rc2 (win64)\n",
            "Thread count: 4 physical cores, 8 logical processors, using up to 8 threads\n",
            "Optimize a model with 400 rows, 62240 columns and 124400 nonzeros\n",
            "Model fingerprint: 0xb17a7392\n",
            "Variable types: 80 continuous, 62160 integer (62160 binary)\n",
            "Coefficient statistics:\n",
            "  Matrix range     [1e+00, 1e+00]\n",
            "  Objective range  [1e+00, 1e+00]\n",
            "  Bounds range     [1e+00, 1e+00]\n",
            "  RHS range        [1e+00, 1e+00]\n",
            "Presolve removed 9 rows and 61929 columns\n",
            "Presolve time: 0.03s\n",
            "\n",
            "Explored 0 nodes (0 simplex iterations) in 0.06 seconds (0.05 work units)\n",
            "Thread count was 1 (of 8 available processors)\n",
            "\n",
            "Solution count 0\n",
            "No other solutions better than -1e+100\n",
            "\n",
            "Model is infeasible\n",
            "Best objective -, best bound -, gap -\n"
          ]
        }
      ],
      "source": [
        "# útfærsla á líkani með Gurobi\n",
        "namskeid = klinik_fjoldi.index.tolist()\n",
        "\n",
        "m = gp.Model(\"Klínik\") # frumstilla Gurobi líkan\n",
        "\n",
        "x = m.addVars([(s,c,d,k) for s in nemendur for c in namskeid for d in dagsetning for k in deild[c]], vtype=gp.GRB.BINARY)\n",
        "\n",
        "# Hér er dæmi um skorðu:\n",
        "m.addConstrs(\n",
        "    gp.quicksum(x[s,c,d,k] for d in dagsetning for k in deild[c]) \n",
        "    == nemendur_skraning.loc[s,c] for s in nemendur for c in namskeid\n",
        "    )\n",
        "\n",
        "m.addConstrs(\n",
        "    gp.quicksum(x[s,c,d,k] for d in dagsetning for c in namskeid for k in deild[c]) \n",
        "    == [0,1] for s in nemendur\n",
        ")\n",
        "\n",
        "## HÉR KEMUR ÚTFÆRSLAN YKKAR ##\n",
        "m.setObjective(gp.quicksum(x[s,c,d,k] for s in nemendur for c in namskeid for d in dagsetning for k in deild[c]), gp.GRB.MAXIMIZE)\n",
        "\n",
        "\n",
        "m.optimize()"
      ]
    },
    {
      "cell_type": "code",
      "execution_count": null,
      "metadata": {
        "id": "09YcBza2Qtf5"
      },
      "outputs": [],
      "source": [
        "# mynda stundatöflu og skrifa í Excel:\n",
        "stundatafla = pd.DataFrame(\"\",index=nemendur, columns = dagsetning)\n",
        "for s in nemendur:\n",
        "    for di in range(len(dagsetning)):\n",
        "        d = dagsetning[di]\n",
        "        for c in namskeid:\n",
        "            for k in deild[c]:\n",
        "                if (x[s,c,d,k].X > 0):\n",
        "                    stundatafla.loc[s,d] = stundatafla.loc[s,d] + c + \" (\"+k+\")\"\n",
        "                    if c in ['Hjúkrunarstjórnun HJÚ714G','Barnahjúkrun HJÚ715G']:\n",
        "                        if di < len(dagsetning):\n",
        "                            stundatafla.loc[s,dagsetning[di]] = stundatafla.loc[s,dagsetning[di]] + c + \" (\"+k+\")\"\n",
        "# https://stackoverflow.com/questions/62783783/how-to-change-the-background-color-of-excel-cells-rows-using-pandas EÐA bara:\n",
        "stundatafla.to_excel('stundatafla.xlsx')\n",
        "stundatafla"
      ]
    },
    {
      "cell_type": "markdown",
      "metadata": {
        "id": "k_UqMADtRhzT"
      },
      "source": [
        "**3. Niðurstöður**\n",
        "\n",
        "Túlkun á lausn. Er hún í lagi? Hvað vantar?"
      ]
    }
  ],
  "metadata": {
    "colab": {
      "collapsed_sections": [],
      "name": "TV-5 niðurröðun fyrir klínik.ipynb",
      "provenance": []
    },
    "kernelspec": {
      "display_name": "Python 3",
      "name": "python3"
    },
    "language_info": {
      "codemirror_mode": {
        "name": "ipython",
        "version": 3
      },
      "file_extension": ".py",
      "mimetype": "text/x-python",
      "name": "python",
      "nbconvert_exporter": "python",
      "pygments_lexer": "ipython3",
      "version": "3.10.4"
    }
  },
  "nbformat": 4,
  "nbformat_minor": 0
}
